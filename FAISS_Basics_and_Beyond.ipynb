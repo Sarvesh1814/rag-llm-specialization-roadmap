{
  "nbformat": 4,
  "nbformat_minor": 0,
  "metadata": {
    "colab": {
      "provenance": [],
      "toc_visible": true,
      "authorship_tag": "ABX9TyOh09bCBjds1elhxxVIMpIU",
      "include_colab_link": true
    },
    "kernelspec": {
      "name": "python3",
      "display_name": "Python 3"
    },
    "language_info": {
      "name": "python"
    }
  },
  "cells": [
    {
      "cell_type": "markdown",
      "metadata": {
        "id": "view-in-github",
        "colab_type": "text"
      },
      "source": [
        "<a href=\"https://colab.research.google.com/github/Sarvesh1814/rag-llm-specialization-roadmap/blob/main/FAISS_Basics_and_Beyond.ipynb\" target=\"_parent\"><img src=\"https://colab.research.google.com/assets/colab-badge.svg\" alt=\"Open In Colab\"/></a>"
      ]
    },
    {
      "cell_type": "markdown",
      "source": [
        "# Intro to FAISS"
      ],
      "metadata": {
        "id": "4QAxX_uQMvbE"
      }
    },
    {
      "cell_type": "markdown",
      "source": [
        "## What is FAISS?\n",
        "\n"
      ],
      "metadata": {
        "id": "7r51GMYtMg2N"
      }
    },
    {
      "cell_type": "markdown",
      "source": [
        "FAISS stands for **F**acebook **A**rtificial **I**ntelligence **S**imilarity **S**earch.\n",
        "\n",
        "It is a library for efficient similarity search and clustering of dense vectors. This library has one of the advance searching algorithms which are implemented using C++ and some of them utilises CPU however the most useful ones are implemented on GPU.\n",
        "\n",
        "Given a set of vectors\n",
        "{\n",
        "x\n",
        "1\n",
        ",\n",
        ".\n",
        ".\n",
        ".\n",
        ",\n",
        "x\n",
        "n\n",
        "}\n",
        " in dimension\n",
        "d\n",
        ", Faiss builds a data structure in RAM. After the structure is constructed, when given a new vector\n",
        "x\n",
        " in dimension\n",
        "d\n",
        " it performs efficiently the operation:\n",
        "\n",
        "![image.png](data:image/png;base64,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)\n",
        "\n",
        "where\n",
        "‖\n",
        ".\n",
        "‖\n",
        " is the Euclidean distance (L2).\n",
        "\n",
        "In Faiss terms, the data structure is an index, an object that has an add method to add x_i vector. Note that the dimension of x_i is assumed to be fixed.\n",
        "\n",
        "Computing the argmin is the search operation on the index."
      ],
      "metadata": {
        "id": "NShLc7opO_Ev"
      }
    },
    {
      "cell_type": "markdown",
      "source": [
        "## Installing FAISS"
      ],
      "metadata": {
        "id": "SRjjCd1cPWBF"
      }
    },
    {
      "cell_type": "markdown",
      "source": [
        "### FAISS CPU"
      ],
      "metadata": {
        "id": "m9-qq4XzPZjr"
      }
    },
    {
      "cell_type": "markdown",
      "source": [
        "**FAISS CPU Requirements**\n",
        "\n",
        "* Basic — works on most environments.\n",
        "\n",
        "* Python: 3.7 – 3.12 (depends on pip wheel availability)\n",
        "\n",
        "* OS: Linux, macOS, Windows (Windows wheels for CPU only)\n",
        "\n",
        "* Pip / Conda: Latest version recommended\n",
        "\n",
        "* RAM: Enough to hold your dataset in memory (FAISS is RAM-bound for CPU)\n",
        "\n"
      ],
      "metadata": {
        "id": "nD4gFyBcP3Db"
      }
    },
    {
      "cell_type": "markdown",
      "source": [
        "**Command to Install FAISS-CPU**\n",
        "\n",
        "pip install faiss-cpu\n"
      ],
      "metadata": {
        "id": "MEg4IEe9PeTj"
      }
    },
    {
      "cell_type": "markdown",
      "source": [
        "### FAISS GPU"
      ],
      "metadata": {
        "id": "BeQ7xuFFPh0L"
      }
    },
    {
      "cell_type": "markdown",
      "source": [
        "**FAISS GPU Requirements**\n",
        "\n",
        "* Extra requirements for GPU acceleration:\n",
        "\n",
        "* Python: 3.7 – 3.12\n",
        "\n",
        "* OS: Linux (GPU pip wheels are officially Linux-only — on Windows you need WSL or build from source)\n",
        "\n",
        "* CUDA Toolkit: Version 11.x or 12.x (match with your NVIDIA driver)\n",
        "\n",
        "* NVIDIA Driver: Compatible with the chosen CUDA version (e.g., CUDA 12.x requires NVIDIA driver ≥ 525)\n",
        "\n",
        "* GPU Memory: At least 4 GB VRAM for small datasets (more for large datasets)\n",
        "\n",
        "* Pip / Conda: Latest version recommended"
      ],
      "metadata": {
        "id": "j94X4qwpQDQl"
      }
    },
    {
      "cell_type": "markdown",
      "source": [
        "**Command to Install FAISS-GPU**\n",
        "\n",
        "pip install faiss-gpu"
      ],
      "metadata": {
        "id": "6mNjMqiHPj2d"
      }
    },
    {
      "cell_type": "markdown",
      "source": [
        "# Getting Started with FAISS\n"
      ],
      "metadata": {
        "id": "YosCzoXPQlQs"
      }
    },
    {
      "cell_type": "markdown",
      "source": [
        "## Understanding the basics of FAISS\n"
      ],
      "metadata": {
        "id": "IJ_UbhnJZF3P"
      }
    },
    {
      "cell_type": "markdown",
      "source": [
        "FAISS is able to handle the collection of vectors of a fixed dimensionality d (typically between multiple of 10 and 100).\n",
        "\n",
        "* It assumes that the embedding matrix is of shape n x d (Row-major storage) where n is no of words/sentence/document and d is embedding dimensions.\n",
        "\n",
        "e.g\n",
        "\n",
        "|Index     |D1 |D2 |D3 |D4 |\n",
        "|:---------|:---------:|------:|------:|------:|\n",
        "| CT1    | 0.1 |   0.95|   0.15|   0.46|\n",
        "| CT2  | 0.5 |   0.77|   0.01|   0.97|\n",
        "| CT3   | 0.8 |   0.91|   0.07|   0.01|\n",
        "\n",
        "Here,\n",
        "\n",
        "CT = Context Text (This can be a character/word/sentence/document)\n",
        "D = Dimension\n",
        "\n",
        "* The FAISS uses only 32-bit floating point matrice."
      ],
      "metadata": {
        "id": "1xxT_7gSZSFI"
      }
    },
    {
      "cell_type": "markdown",
      "source": [
        "## Building FAISS Index and Adding Vectors to it."
      ],
      "metadata": {
        "id": "C2hXqT3HcIt3"
      }
    },
    {
      "cell_type": "markdown",
      "source": [],
      "metadata": {
        "id": "6HpQBsrrcTyZ"
      }
    },
    {
      "cell_type": "markdown",
      "source": [],
      "metadata": {
        "id": "dNoK6JUEcTva"
      }
    },
    {
      "cell_type": "markdown",
      "source": [],
      "metadata": {
        "id": "MnXHlz6ocTsr"
      }
    },
    {
      "cell_type": "markdown",
      "source": [],
      "metadata": {
        "id": "VX87PB57cTpi"
      }
    },
    {
      "cell_type": "markdown",
      "source": [],
      "metadata": {
        "id": "GGoSI69jcTmk"
      }
    },
    {
      "cell_type": "markdown",
      "source": [],
      "metadata": {
        "id": "zMHylqeicTj9"
      }
    },
    {
      "cell_type": "markdown",
      "source": [],
      "metadata": {
        "id": "_1se0O3ScThX"
      }
    },
    {
      "cell_type": "markdown",
      "source": [],
      "metadata": {
        "id": "wd1G4qdZcTeh"
      }
    },
    {
      "cell_type": "markdown",
      "source": [],
      "metadata": {
        "id": "QsNl2OHEcTcA"
      }
    },
    {
      "cell_type": "markdown",
      "source": [],
      "metadata": {
        "id": "noLUHmXkcTY6"
      }
    },
    {
      "cell_type": "markdown",
      "source": [],
      "metadata": {
        "id": "lAaEY6s5cTWL"
      }
    },
    {
      "cell_type": "markdown",
      "source": [],
      "metadata": {
        "id": "E3V-OsAmcTTS"
      }
    },
    {
      "cell_type": "markdown",
      "source": [],
      "metadata": {
        "id": "l5lCh55pcTQT"
      }
    },
    {
      "cell_type": "markdown",
      "source": [],
      "metadata": {
        "id": "g0J2aQnicTNd"
      }
    },
    {
      "cell_type": "markdown",
      "source": [],
      "metadata": {
        "id": "jZ-guKs5cTKp"
      }
    },
    {
      "cell_type": "markdown",
      "source": [],
      "metadata": {
        "id": "WmUzETrlcTHy"
      }
    },
    {
      "cell_type": "markdown",
      "source": [],
      "metadata": {
        "id": "I5McaM7HcTE4"
      }
    },
    {
      "cell_type": "markdown",
      "source": [],
      "metadata": {
        "id": "OYWOrFJXcTCP"
      }
    },
    {
      "cell_type": "markdown",
      "source": [],
      "metadata": {
        "id": "ccDtKMtPcS_q"
      }
    },
    {
      "cell_type": "markdown",
      "source": [],
      "metadata": {
        "id": "WiMCRrYAcS9c"
      }
    },
    {
      "cell_type": "markdown",
      "source": [],
      "metadata": {
        "id": "WhnTYE69cS5p"
      }
    },
    {
      "cell_type": "markdown",
      "source": [],
      "metadata": {
        "id": "RiM3HRVvcS3E"
      }
    },
    {
      "cell_type": "markdown",
      "source": [],
      "metadata": {
        "id": "mkr7kxCecS0m"
      }
    },
    {
      "cell_type": "markdown",
      "source": [],
      "metadata": {
        "id": "qCqAa6o8cSxu"
      }
    },
    {
      "cell_type": "markdown",
      "source": [],
      "metadata": {
        "id": "uj4P21eicSvW"
      }
    },
    {
      "cell_type": "markdown",
      "source": [],
      "metadata": {
        "id": "YvK1qoWPcSs8"
      }
    },
    {
      "cell_type": "markdown",
      "source": [],
      "metadata": {
        "id": "55q4gBVUcSqA"
      }
    },
    {
      "cell_type": "markdown",
      "source": [],
      "metadata": {
        "id": "iVLbY99acSnM"
      }
    },
    {
      "cell_type": "markdown",
      "source": [],
      "metadata": {
        "id": "meQ0rsH1cSjz"
      }
    },
    {
      "cell_type": "markdown",
      "source": [],
      "metadata": {
        "id": "gN_gAWSTcSgq"
      }
    },
    {
      "cell_type": "markdown",
      "source": [],
      "metadata": {
        "id": "KNi-8CfHcSYe"
      }
    },
    {
      "cell_type": "markdown",
      "source": [],
      "metadata": {
        "id": "3DMTeZLWcSO2"
      }
    },
    {
      "cell_type": "markdown",
      "source": [],
      "metadata": {
        "id": "Fc4o1EZDcRCA"
      }
    },
    {
      "cell_type": "code",
      "source": [],
      "metadata": {
        "id": "iF6fxtpQQp3A"
      },
      "execution_count": null,
      "outputs": []
    }
  ]
}