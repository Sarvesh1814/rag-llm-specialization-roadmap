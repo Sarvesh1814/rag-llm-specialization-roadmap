{
  "nbformat": 4,
  "nbformat_minor": 0,
  "metadata": {
    "colab": {
      "provenance": [],
      "toc_visible": true,
      "authorship_tag": "ABX9TyOI+mx9bItBavXizdG+k8w/",
      "include_colab_link": true
    },
    "kernelspec": {
      "name": "python3",
      "display_name": "Python 3"
    },
    "language_info": {
      "name": "python"
    }
  },
  "cells": [
    {
      "cell_type": "markdown",
      "metadata": {
        "id": "view-in-github",
        "colab_type": "text"
      },
      "source": [
        "<a href=\"https://colab.research.google.com/github/Sarvesh1814/rag-llm-specialization-roadmap/blob/main/Phase-1%20RAG%20Foundations%20/Theory/01_FAISS_Basics_and_Beyond_theory.ipynb\" target=\"_parent\"><img src=\"https://colab.research.google.com/assets/colab-badge.svg\" alt=\"Open In Colab\"/></a>"
      ]
    },
    {
      "cell_type": "markdown",
      "source": [
        "# Intro to FAISS"
      ],
      "metadata": {
        "id": "4QAxX_uQMvbE"
      }
    },
    {
      "cell_type": "markdown",
      "source": [
        "## What is FAISS?\n",
        "\n"
      ],
      "metadata": {
        "id": "7r51GMYtMg2N"
      }
    },
    {
      "cell_type": "markdown",
      "source": [
        "FAISS stands for **F**acebook **A**rtificial **I**ntelligence **S**imilarity **S**earch.\n",
        "\n",
        "It is a library for efficient similarity search and clustering of dense vectors. This library has one of the advance searching algorithms which are implemented using C++ and some of them utilises CPU however the most useful ones are implemented on GPU.\n",
        "\n",
        "Given a set of vectors\n",
        "{\n",
        "x\n",
        "1\n",
        ",\n",
        ".\n",
        ".\n",
        ".\n",
        ",\n",
        "x\n",
        "n\n",
        "}\n",
        " in dimension\n",
        "d\n",
        ", Faiss builds a data structure in RAM. After the structure is constructed, when given a new vector\n",
        "x\n",
        " in dimension\n",
        "d\n",
        " it performs efficiently the operation:\n",
        "\n",
        "![image.png](data:image/png;base64,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)\n",
        "\n",
        "where\n",
        "‖\n",
        ".\n",
        "‖\n",
        " is the Euclidean distance (L2).\n",
        "\n",
        "In Faiss terms, the data structure is an index, an object that has an add method to add x_i vector. Note that the dimension of x_i is assumed to be fixed.\n",
        "\n",
        "Computing the argmin is the search operation on the index."
      ],
      "metadata": {
        "id": "NShLc7opO_Ev"
      }
    },
    {
      "cell_type": "markdown",
      "source": [
        "## Installing FAISS"
      ],
      "metadata": {
        "id": "SRjjCd1cPWBF"
      }
    },
    {
      "cell_type": "markdown",
      "source": [
        "### FAISS CPU"
      ],
      "metadata": {
        "id": "m9-qq4XzPZjr"
      }
    },
    {
      "cell_type": "markdown",
      "source": [
        "**FAISS CPU Requirements**\n",
        "\n",
        "* Basic — works on most environments.\n",
        "\n",
        "* Python: 3.7 – 3.12 (depends on pip wheel availability)\n",
        "\n",
        "* OS: Linux, macOS, Windows (Windows wheels for CPU only)\n",
        "\n",
        "* Pip / Conda: Latest version recommended\n",
        "\n",
        "* RAM: Enough to hold your dataset in memory (FAISS is RAM-bound for CPU)\n",
        "\n"
      ],
      "metadata": {
        "id": "nD4gFyBcP3Db"
      }
    },
    {
      "cell_type": "markdown",
      "source": [
        "**Command to Install FAISS-CPU**\n",
        "\n",
        "pip install faiss-cpu\n"
      ],
      "metadata": {
        "id": "MEg4IEe9PeTj"
      }
    },
    {
      "cell_type": "markdown",
      "source": [
        "### FAISS GPU"
      ],
      "metadata": {
        "id": "BeQ7xuFFPh0L"
      }
    },
    {
      "cell_type": "markdown",
      "source": [
        "**FAISS GPU Requirements**\n",
        "\n",
        "* Extra requirements for GPU acceleration:\n",
        "\n",
        "* Python: 3.7 – 3.12\n",
        "\n",
        "* OS: Linux (GPU pip wheels are officially Linux-only — on Windows you need WSL or build from source)\n",
        "\n",
        "* CUDA Toolkit: Version 11.x or 12.x (match with your NVIDIA driver)\n",
        "\n",
        "* NVIDIA Driver: Compatible with the chosen CUDA version (e.g., CUDA 12.x requires NVIDIA driver ≥ 525)\n",
        "\n",
        "* GPU Memory: At least 4 GB VRAM for small datasets (more for large datasets)\n",
        "\n",
        "* Pip / Conda: Latest version recommended"
      ],
      "metadata": {
        "id": "j94X4qwpQDQl"
      }
    },
    {
      "cell_type": "markdown",
      "source": [
        "**Command to Install FAISS-GPU**\n",
        "\n",
        "pip install faiss-gpu"
      ],
      "metadata": {
        "id": "6mNjMqiHPj2d"
      }
    },
    {
      "cell_type": "markdown",
      "source": [
        "# Getting Started with FAISS\n"
      ],
      "metadata": {
        "id": "YosCzoXPQlQs"
      }
    },
    {
      "cell_type": "markdown",
      "source": [
        "## Understanding the basics of FAISS\n"
      ],
      "metadata": {
        "id": "IJ_UbhnJZF3P"
      }
    },
    {
      "cell_type": "markdown",
      "source": [
        "FAISS is able to handle the collection of vectors of a fixed dimensionality d (typically between multiple of 10 and 100).\n",
        "\n",
        "* It assumes that the embedding matrix is of shape n x d (Row-major storage) where n is no of words/sentence/document and d is embedding dimensions.\n",
        "\n",
        "e.g\n",
        "\n",
        "|Index     |D1 |D2 |D3 |D4 |\n",
        "|:---------|:---------:|------:|------:|------:|\n",
        "| CT1    | 0.1 |   0.95|   0.15|   0.46|\n",
        "| CT2  | 0.5 |   0.77|   0.01|   0.97|\n",
        "| CT3   | 0.8 |   0.91|   0.07|   0.01|\n",
        "\n",
        "Here,\n",
        "\n",
        "CT = Context Text (This can be a character/word/sentence/document)\n",
        "D = Dimension\n",
        "\n",
        "* The FAISS uses only 32-bit floating point matrice."
      ],
      "metadata": {
        "id": "1xxT_7gSZSFI"
      }
    },
    {
      "cell_type": "markdown",
      "source": [
        "## Understanding Indexing and Searching\n"
      ],
      "metadata": {
        "id": "C2hXqT3HcIt3"
      }
    },
    {
      "cell_type": "markdown",
      "source": [
        "### Indexing"
      ],
      "metadata": {
        "id": "PMKagmzAyK6K"
      }
    },
    {
      "cell_type": "markdown",
      "source": [
        "1. FAISS is built around the Index object.\n",
        "2. It encapsulates the set of database vectors.\n",
        "3. It can also preporcess the database vectors to make search efficient. (optional)\n",
        "\n",
        "When an FAISS index is created they operate on the dimensionality of the vectors (D). Most of the indices requires the training phase to understand the distribution of the vectors.\n",
        "\n",
        "When an index is built and trained after that two operations can be performed on it: **add** and **search**\n",
        "\n",
        "Some of the indices can store the integer IDs corresponding to the each of the vectors and if IDs are not provided it assigns the id from 0,1,... n-1.\n"
      ],
      "metadata": {
        "id": "6HpQBsrrcTyZ"
      }
    },
    {
      "cell_type": "markdown",
      "source": [
        "### Types of Indexes\n"
      ],
      "metadata": {
        "id": "VX87PB57cTpi"
      }
    },
    {
      "cell_type": "markdown",
      "source": [
        "**Basic Indexes**\n",
        "\n",
        "| Method                                     | Class name              | index_factory         | Main parameters                            | Bytes/vector                           | Exhaustive | Comments                                                                                       | When useful                                                                 |\n",
        "|--------------------------------------------|--------------------------|-----------------------|--------------------------------------------|-----------------------------------------|------------|------------------------------------------------------------------------------------------------|----------------------------------------------------------------------------|\n",
        "| Exact Search for L2                        | IndexFlatL2             | \"Flat\"                | d                                          | 4*d                                     | yes        | brute-force                                                                                   | Small datasets, need exact L2 distance                                      |\n",
        "| Exact Search for Inner Product             | IndexFlatIP             | \"Flat\"                | d                                          | 4*d                                     | yes        | also for cosine (normalize vectors beforehand)                                                 | Small datasets, cosine similarity or inner product search                   |\n",
        "| Hierarchical Navigable Small World graph   | IndexHNSWFlat           | \"HNSW,Flat\"           | d, M                                       | 4*d + x * M * 2 * 4                     | no         | graph-based ANN                                                                                 | Large-scale datasets needing high recall + fast queries                     |\n",
        "| Inverted file with exact post-verification | IndexIVFFlat            | \"IVFx,Flat\"           | quantizer, d, nlists, metric               | 4*d + 8                                 | no         | uses another index to assign vectors to inverted lists                                         | Medium/large datasets, speedup over brute force while keeping accuracy       |\n",
        "| Locality-Sensitive Hashing (binary flat)   | IndexLSH                | -                     | d, nbits                                   | ceil(nbits/8)                           | yes        | optimized with random rotation                                                                | Very high-dimensional data, quick approximate filtering                     |\n",
        "| Scalar quantizer (SQ) in flat mode         | IndexScalarQuantizer    | \"SQ8\"                 | d                                          | d                                       | yes        | 4 and 6 bits per component are also implemented                                                | When memory is limited but accuracy must be preserved reasonably             |\n",
        "| Product quantizer (PQ) in flat mode        | IndexPQ                 | \"PQx\",\"PQ\"M\"x\"nbits   | d, M, nbits                                | ceil(M * nbits / 8)                     | yes        | codebook-based compression                                                                     | Large datasets where memory reduction is critical                            |\n",
        "| IVF + Scalar quantizer                     | IndexIVFScalarQuantizer | \"IVFx,SQ4\" \"IVFx,SQ8\" | quantizer, d, nlists, qtype                | SQfp16: 2*d+8, SQ8: d+8, SQ4: d/2+8     | no         | same as SQ but with IVF partitioning                                                           | Large-scale datasets with tighter memory constraints                        |\n",
        "| IVFADC (coarse quantizer + PQ on residuals)| IndexIVFPQ              | \"IVFx,PQy\"x\"nbits\"    | quantizer, d, nlists, M, nbits             | ceil(M*nbits/8)+8                       | no         | PQ applied on residuals after IVF                                                             | Good trade-off between memory and accuracy on very large datasets            |\n",
        "| IVFADC+R (IVFADC with re-ranking)          | IndexIVFPQR             | \"IVFx,PQy+z\"          | quantizer, d, nlists, M, nbits, M_refine… | M+M_refine+8                            | no         | same as IVFADC but improves ranking accuracy using refinement                                   | When you need both scalability and improved accuracy after initial ANN search|\n",
        "\n"
      ],
      "metadata": {
        "id": "dQNd6kd5FuCp"
      }
    },
    {
      "cell_type": "markdown",
      "source": [
        "#### Flat Indexes"
      ],
      "metadata": {
        "id": "GKBFw3oYGtaI"
      }
    },
    {
      "cell_type": "markdown",
      "source": [
        "##### IndexFlatL2 and IndexFlatIP\n",
        "In Flat indexes, the vectors are encoded into codes of a fixed size and store them in an arry of ntotal * code_size bytes.\n",
        "\n",
        "At the search time, all the indexed vectors are decoded sequentially and compared to the query vectors. To make the comparision faster, in IndexPQ the it is done in compressed domain.\n",
        "\n",
        "**Flat Index Characterstics:**\n",
        "\n",
        "1. They don't support add_with_id\n",
        "2. They do support efficient direct vector access.\n",
        "3. They support removal with remove. But after that the index shrinks and changes the numbering.\n",
        "\n",
        "As mentioned above, the vectors are encoded into code of fix sizes. Belowlisted are the available encodings:\n",
        "\n",
        "* **No Encoding**\n",
        "* **16-bit Float Encoding**\n",
        "* **8/6/4-bit Integer Encoding** (Quantizing the vectors to 256/64/16 levels)\n",
        "* **PQ Encoding** (Here the vectors are splitted into sub-vectors and then they are Quantized further)\n",
        "* **Residual Encoding** : the vectors are quantized and progressively refined by residual. At each quantization stage, the size of the codebook can be redefined.\n",
        "\n"
      ],
      "metadata": {
        "id": "D3Ma_jUbGtXW"
      }
    },
    {
      "cell_type": "markdown",
      "source": [
        "###### **Understanding Residual Encoding with an example**\n",
        "\n",
        "Imagine you want to describe a house 🏠 to someone, but you can’t send a photo (too much data).\n",
        "\n",
        "You need to describe it in compressed steps:\n",
        "\n",
        "1. (First rough sketch / coarse quantizer):\n",
        "You say, “It’s a two-story house with a red roof.”\n",
        "→ This gives a rough idea, but not the full details.\n",
        "\n",
        "2. (Residual quantization / correction):\n",
        "Then you refine it by adding what’s missing:\n",
        "“Also, the windows are big and rectangular.”\n",
        "→ This corrects/adjusts the previous rough sketch.\n",
        "\n",
        "3. (Further refinement):\n",
        "You keep adding residual details:\n",
        "“There’s a small porch at the front.”\n",
        "“The door is white.”\n",
        "\n",
        "By the end, the person has a progressively refined description that gets closer and closer to the real image of the house.\n",
        "\n",
        "**How this works in FAISS:**\n",
        "\n",
        "Instead of describing houses, FAISS is storing vectors (embeddings).\n",
        "\n",
        "A vector (say, 512 numbers from an embedding model) is too large to store directly.\n",
        "\n",
        "FAISS uses quantizers to compress it:\n",
        "\n",
        "First quantizer = a rough approximation of the vector.\n",
        "\n",
        "Compute the residual = (original vector – approximation).\n",
        "\n",
        "Second quantizer encodes that residual.\n",
        "\n",
        "Repeat the process, each stage refining the leftover error.\n",
        "\n",
        "So the final stored code is a chain of approximations, where each stage fixes the mistakes of the previous one.\n",
        "\n",
        "**Plain takeaway:**\n",
        "\n",
        "Residual encoding is like iteratively refining a rough sketch into a detailed drawing.\n",
        "\n",
        "First pass = rough idea.\n",
        "\n",
        "Each residual = adds missing details.\n",
        "\n",
        "Result = efficient compression with better accuracy than one-shot quantization.\n",
        "\n",
        "**Formulation**\n",
        "\n",
        "![image.png](data:image/png;base64,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)\n",
        "---\n",
        "![image.png](data:image/png;base64,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)\n",
        "\n",
        "## Intuition\n",
        "\n",
        "- Each \\(c_k\\) is a **correction vector** that fixes the error left by previous quantizers.  \n",
        "- \\(\\hat{x}\\) is the reconstructed approximation of the original vector.  \n",
        "- As more stages are added, the error \\(r_m\\) becomes smaller.  \n",
        "\n",
        "✅ **Why it's useful:** Instead of one huge codebook (memory-heavy), you use smaller quantizers in sequence. This balances **compression** and **accuracy**."
      ],
      "metadata": {
        "id": "dUKz29CgGtUx"
      }
    },
    {
      "cell_type": "markdown",
      "source": [
        "##### IndexIVF"
      ],
      "metadata": {
        "id": "WqCrixxMGtO5"
      }
    },
    {
      "cell_type": "markdown",
      "source": [
        "This is a way where we have trade-off between Speed and Accuracy. In this approach the accuracy is traded off with speed.\n",
        "\n",
        "In this method the feature space is partitioned into nlist cells. The databse vectores are assigned to one of these cells using a quantization function and stored in an inverted file structre formed of nlist inverted lists.\n",
        "\n",
        "During the search, the query is compared to each of the database vector assinged to these list but this will be just an approximation as these vectors won't be of equal size.\n"
      ],
      "metadata": {
        "id": "W7IusvO2GtHJ"
      }
    },
    {
      "cell_type": "markdown",
      "source": [
        "##### IndexHNSW variants"
      ],
      "metadata": {
        "id": "_mt-QtFdTO3o"
      }
    },
    {
      "cell_type": "markdown",
      "source": [
        "The Hierarchical Navigable Small World indexing method is based on a graph built on the indexed vectors. At search time, the graph is explored in a way that converges to the nearest neighbors as quickly as possible. The IndexHNSW uses a flat index as underlying storage to quickly access the database vectors and abstract the compression / decompression of vectors. HNSW depends on a few important parameters:\n",
        "\n",
        "* **M** is the number of neighbors used in the graph. A larger M is more accurate but uses more memory\n",
        "\n",
        "* **efConstruction** is the depth of exploration at add time\n",
        "\n",
        "* **efSearch** is the depth of exploration of the search\n",
        "\n",
        "*Supported encodings*\n",
        "\n",
        "IndexHNSW supports the following Flat indexes: IndexHNSWFlat (no encoding), IndexHNSWSQ (scalar quantizer), IndexHNSWPQ (product quantizer), IndexHNSW2Level (two-level encoding)."
      ],
      "metadata": {
        "id": "RRJ0lcQSTOmY"
      }
    },
    {
      "cell_type": "markdown",
      "source": [
        "#### Binary Indexes"
      ],
      "metadata": {
        "id": "GGoSI69jcTmk"
      }
    },
    {
      "cell_type": "markdown",
      "source": [],
      "metadata": {
        "id": "zMHylqeicTj9"
      }
    },
    {
      "cell_type": "markdown",
      "source": [],
      "metadata": {
        "id": "_1se0O3ScThX"
      }
    },
    {
      "cell_type": "markdown",
      "source": [],
      "metadata": {
        "id": "wd1G4qdZcTeh"
      }
    },
    {
      "cell_type": "markdown",
      "source": [],
      "metadata": {
        "id": "QsNl2OHEcTcA"
      }
    },
    {
      "cell_type": "markdown",
      "source": [
        "### Searching\n"
      ],
      "metadata": {
        "id": "dNoK6JUEcTva"
      }
    },
    {
      "cell_type": "markdown",
      "source": [
        "The basic search operation that can be performed on an index is K-nearest neighbour.\n",
        "\n",
        "This will provide us the matrix of size nq x k.\n",
        "\n",
        "        nq = no of queries\n",
        "\n",
        "The result of this search depends on how better the embeddings are."
      ],
      "metadata": {
        "id": "MnXHlz6ocTsr"
      }
    },
    {
      "cell_type": "markdown",
      "source": [],
      "metadata": {
        "id": "noLUHmXkcTY6"
      }
    },
    {
      "cell_type": "markdown",
      "source": [],
      "metadata": {
        "id": "lAaEY6s5cTWL"
      }
    },
    {
      "cell_type": "markdown",
      "source": [],
      "metadata": {
        "id": "E3V-OsAmcTTS"
      }
    },
    {
      "cell_type": "markdown",
      "source": [],
      "metadata": {
        "id": "l5lCh55pcTQT"
      }
    },
    {
      "cell_type": "markdown",
      "source": [],
      "metadata": {
        "id": "g0J2aQnicTNd"
      }
    },
    {
      "cell_type": "markdown",
      "source": [],
      "metadata": {
        "id": "jZ-guKs5cTKp"
      }
    },
    {
      "cell_type": "markdown",
      "source": [],
      "metadata": {
        "id": "WmUzETrlcTHy"
      }
    },
    {
      "cell_type": "markdown",
      "source": [],
      "metadata": {
        "id": "I5McaM7HcTE4"
      }
    },
    {
      "cell_type": "markdown",
      "source": [],
      "metadata": {
        "id": "OYWOrFJXcTCP"
      }
    },
    {
      "cell_type": "markdown",
      "source": [],
      "metadata": {
        "id": "ccDtKMtPcS_q"
      }
    },
    {
      "cell_type": "markdown",
      "source": [],
      "metadata": {
        "id": "WiMCRrYAcS9c"
      }
    },
    {
      "cell_type": "markdown",
      "source": [],
      "metadata": {
        "id": "WhnTYE69cS5p"
      }
    },
    {
      "cell_type": "markdown",
      "source": [],
      "metadata": {
        "id": "RiM3HRVvcS3E"
      }
    },
    {
      "cell_type": "markdown",
      "source": [],
      "metadata": {
        "id": "mkr7kxCecS0m"
      }
    },
    {
      "cell_type": "markdown",
      "source": [],
      "metadata": {
        "id": "qCqAa6o8cSxu"
      }
    },
    {
      "cell_type": "markdown",
      "source": [],
      "metadata": {
        "id": "uj4P21eicSvW"
      }
    },
    {
      "cell_type": "markdown",
      "source": [],
      "metadata": {
        "id": "YvK1qoWPcSs8"
      }
    },
    {
      "cell_type": "markdown",
      "source": [],
      "metadata": {
        "id": "55q4gBVUcSqA"
      }
    },
    {
      "cell_type": "markdown",
      "source": [],
      "metadata": {
        "id": "iVLbY99acSnM"
      }
    },
    {
      "cell_type": "markdown",
      "source": [],
      "metadata": {
        "id": "meQ0rsH1cSjz"
      }
    },
    {
      "cell_type": "markdown",
      "source": [],
      "metadata": {
        "id": "gN_gAWSTcSgq"
      }
    },
    {
      "cell_type": "markdown",
      "source": [],
      "metadata": {
        "id": "KNi-8CfHcSYe"
      }
    },
    {
      "cell_type": "markdown",
      "source": [],
      "metadata": {
        "id": "3DMTeZLWcSO2"
      }
    },
    {
      "cell_type": "markdown",
      "source": [],
      "metadata": {
        "id": "Fc4o1EZDcRCA"
      }
    },
    {
      "cell_type": "code",
      "source": [],
      "metadata": {
        "id": "iF6fxtpQQp3A"
      },
      "execution_count": null,
      "outputs": []
    }
  ]
}